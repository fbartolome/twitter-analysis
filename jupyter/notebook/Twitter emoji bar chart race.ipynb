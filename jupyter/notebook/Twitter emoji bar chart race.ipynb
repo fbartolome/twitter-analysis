{
 "cells": [
  {
   "cell_type": "code",
   "execution_count": 1,
   "metadata": {},
   "outputs": [],
   "source": [
    "import pandas as pd\n",
    "import bar_chart_race as bcr\n",
    "from pyspark.sql import SparkSession"
   ]
  },
  {
   "cell_type": "code",
   "execution_count": 2,
   "metadata": {},
   "outputs": [],
   "source": [
    "import requests\n",
    "from bs4 import BeautifulSoup"
   ]
  },
  {
   "cell_type": "code",
   "execution_count": 3,
   "metadata": {},
   "outputs": [],
   "source": [
    "def get_emoji_name(emoji):\n",
    "    print(emoji)\n",
    "    soup = BeautifulSoup(requests.get('https://emojipedia.org/%s' % emoji).content, \"html.parser\")\n",
    "    return ' '.join(soup.find('h1').text.split()[1:])"
   ]
  },
  {
   "cell_type": "code",
   "execution_count": 4,
   "metadata": {},
   "outputs": [],
   "source": [
    "spark = (\n",
    "    SparkSession.builder\n",
    "    .appName(\"twitter-emoji-analysis\")\n",
    "    .config(\"spark.driver.memory\", \"512m\")\n",
    "    .config(\"spark.driver.cores\", \"1\")\n",
    "    .config(\"spark.executor.memory\", \"512m\")\n",
    "    .config(\"spark.executor.cores\", \"1\")\n",
    "    .config(\"spark.sql.shuffle.partitions\", \"2\")\n",
    "    .getOrCreate()\n",
    ")"
   ]
  },
  {
   "cell_type": "code",
   "execution_count": 5,
   "metadata": {},
   "outputs": [],
   "source": [
    "spark_df = spark.read.parquet(\"/dataset/streaming.parquet\")\n",
    "spark_df.createOrReplaceTempView(\"twitter_emojis\")"
   ]
  },
  {
   "cell_type": "code",
   "execution_count": 8,
   "metadata": {},
   "outputs": [],
   "source": [
    "df = spark.sql('''\n",
    "with grouped_emojis as (\n",
    "select \n",
    "    ds || ' ' || left(hour,2) as hour,\n",
    "    emoji,\n",
    "    count(distinct tweet_id) tweets\n",
    "from twitter_emojis\n",
    "where (ds > '2021-10-10' or (ds == '2021-10-10' and hour >= '12')) and cast(hour as string) like '__:__'\n",
    "group by 1,2\n",
    "), ranked_emojis as (\n",
    "    select \n",
    "    *,\n",
    "    row_number() over (partition by hour order by tweets desc) rank\n",
    "from grouped_emojis\n",
    ")\n",
    "select hour as time,\n",
    "    emoji,\n",
    "    tweets,\n",
    "    rank\n",
    "from ranked_emojis\n",
    "where rank <= 10\n",
    "''').toPandas()"
   ]
  },
  {
   "cell_type": "code",
   "execution_count": 9,
   "metadata": {},
   "outputs": [
    {
     "name": "stdout",
     "output_type": "stream",
     "text": [
      "👏\n",
      "🔥\n",
      "🗣\n",
      "⚽\n",
      "🎶\n",
      "🙌\n",
      "🟨\n",
      "🟦\n",
      "💦\n",
      "📢\n",
      "❤\n",
      "🥵\n",
      "😈\n",
      "🤤\n",
      "🤫\n",
      "😍\n",
      "😂\n",
      "💛\n",
      "👉\n",
      "‼️\n",
      "🇸🇪\n",
      "☎️\n",
      "📊\n",
      "❤️\n",
      "💙\n",
      "🔴\n",
      "🚨\n",
      "🍆\n",
      "✨\n",
      "♀️\n",
      "😁\n",
      "🙋\n",
      "🛳️\n",
      "🐎\n",
      "🎁\n",
      "🎫\n",
      "➡️\n",
      "🏆\n",
      "💧\n",
      "➕\n",
      "👨‍👩‍👧\n",
      "👀\n",
      "📽️\n",
      "🥰\n",
      "🗳️\n",
      "🇵🇾\n",
      "🔹\n",
      "🏴\n",
      "🔵\n",
      "🤣\n",
      "😌\n",
      "🌟\n",
      "👤\n",
      "😭\n",
      "😸\n",
      "💬\n",
      "💭\n",
      "🐬\n",
      "🍰\n"
     ]
    }
   ],
   "source": [
    "emoji_dict = {e:get_emoji_name(e) for e in df[\"emoji\"].drop_duplicates().tolist()}"
   ]
  },
  {
   "cell_type": "code",
   "execution_count": 10,
   "metadata": {},
   "outputs": [],
   "source": [
    "df[\"emoji_name\"] = df[\"emoji\"].apply(lambda x: emoji_dict.get(x))"
   ]
  },
  {
   "cell_type": "code",
   "execution_count": 11,
   "metadata": {},
   "outputs": [],
   "source": [
    "%%capture --no-display\n",
    "data = pd.pivot_table(\n",
    "    index=\"time\",\n",
    "    columns=\"emoji_name\",\n",
    "    values=\"tweets\",\n",
    "    data = df\n",
    ").fillna(0)\n",
    "\n",
    "bcr.bar_chart_race(\n",
    "    df=data,\n",
    "    n_bars=10,\n",
    "    orientation='h',\n",
    "    sort='desc',\n",
    "    title='Top 10 emojis for tweets in CABA containing \"Alberto Fernandez\"',\n",
    "    filename='bcr_alberto_fernandez.mp4'\n",
    ")"
   ]
  },
  {
   "cell_type": "code",
   "execution_count": 12,
   "metadata": {},
   "outputs": [],
   "source": [
    "%%capture --no-display\n",
    "data = pd.pivot_table(\n",
    "    index=\"time\",\n",
    "    columns=\"emoji_name\",\n",
    "    values=\"tweets\",\n",
    "    data = df\n",
    ").fillna(0).cumsum()\n",
    "\n",
    "bcr.bar_chart_race(\n",
    "    df=data,\n",
    "    n_bars=10,\n",
    "    orientation='h',\n",
    "    sort='desc',\n",
    "    title='Top 10 emojis for tweets in CABA containing \"Alberto Fernandez\"',\n",
    "    filename='bcr_cumulative_alberto_fernandez.mp4'\n",
    ")"
   ]
  },
  {
   "cell_type": "code",
   "execution_count": null,
   "metadata": {},
   "outputs": [],
   "source": []
  }
 ],
 "metadata": {
  "kernelspec": {
   "display_name": "Python 3",
   "language": "python",
   "name": "python3"
  },
  "language_info": {
   "codemirror_mode": {
    "name": "ipython",
    "version": 3
   },
   "file_extension": ".py",
   "mimetype": "text/x-python",
   "name": "python",
   "nbconvert_exporter": "python",
   "pygments_lexer": "ipython3",
   "version": "3.7.3"
  }
 },
 "nbformat": 4,
 "nbformat_minor": 4
}
